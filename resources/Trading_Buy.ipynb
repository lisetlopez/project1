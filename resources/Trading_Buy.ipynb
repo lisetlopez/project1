{
 "cells": [
  {
   "cell_type": "code",
   "execution_count": null,
   "id": "e2ff36f2-14f6-4c70-b669-acdc2ba69477",
   "metadata": {},
   "outputs": [],
   "source": [
    "#import libraries\n",
    "\n",
    "import yfinance as yf\n",
    "import time"
   ]
  },
  {
   "cell_type": "code",
   "execution_count": null,
   "id": "108d41e0-b250-4a51-9c1b-d6d210426378",
   "metadata": {},
   "outputs": [],
   "source": [
    "#refer to keys \n",
    "key = \"ALPACA API KEY\"\n",
    "secret_key = \"ALPACA API SECRET KEY"
   ]
  },
  {
   "cell_type": "code",
   "execution_count": null,
   "id": "0207f1cd-4b49-4f71-b634-c2dea07732a5",
   "metadata": {},
   "outputs": [],
   "source": [
    "#api_version v2 \n",
    "\n",
    "api = tradeapi.REST(key,sec,url,api_version''v2')"
   ]
  },
  {
   "cell_type": "code",
   "execution_count": null,
   "id": "4c371241-e432-4f67-8b05-819295ed44d1",
   "metadata": {},
   "outputs": [],
   "source": [
    "#user would already be logged in with an account\n",
    "#INIT OUR ACCOUNT VARIABLE\n",
    "\n",
    "account = api.get_account()"
   ]
  },
  {
   "cell_type": "code",
   "execution_count": null,
   "id": "5b905807-0929-48c0-a491-8735dd073d51",
   "metadata": {},
   "outputs": [],
   "source": [
    "#user would already be logged in with an account\n",
    "\n",
    "\n",
    "print(account.status)"
   ]
  },
  {
   "cell_type": "code",
   "execution_count": null,
   "id": "24826714-88d4-45e0-a1f5-562c0125adc5",
   "metadata": {},
   "outputs": [],
   "source": [
    "#dataframe for user would be referring to an existing portfolio within the dataframe\n",
    "\n",
    "\n"
   ]
  },
  {
   "cell_type": "code",
   "execution_count": null,
   "id": "9dd7db58-8ce0-4b2b-9aef-93a893c247e1",
   "metadata": {},
   "outputs": [],
   "source": [
    "#questionary would ask what stock the investor would like to purchase\n",
    "\n",
    "#customer would input their response\n",
    "\n"
   ]
  },
  {
   "cell_type": "code",
   "execution_count": null,
   "id": "925669c5-c50f-42ab-aa1f-18dbe057af57",
   "metadata": {},
   "outputs": [],
   "source": [
    "#questionary would request an amount for how much of the stock the user would like to puchase. \n",
    "\n",
    "\n",
    "\n",
    "#question as to wether we are allowing for user to buy less than one stock.\n"
   ]
  },
  {
   "cell_type": "code",
   "execution_count": null,
   "id": "9caac9f7-ee20-4b2b-b597-48b5142a43bb",
   "metadata": {},
   "outputs": [],
   "source": [
    "\n",
    "#Place buy order\n",
    "#When placing buy orders use the 'api' object\n",
    "#api.submit_order() allows to passs paramseters to place\n",
    "\n",
    "order = api.submit_order(symbol = \"stock symbol\"\n",
    "                         qty = \"amount\"\n",
    "                         side = \"buy\"\n",
    "                         type = 'market'\n",
    "                         time_in_force = 'day')\n",
    "time.sleep(5)\n"
   ]
  },
  {
   "cell_type": "code",
   "execution_count": null,
   "id": "97c98e5c-9c95-4a5b-842d-206b10843b39",
   "metadata": {},
   "outputs": [],
   "source": [
    "#if they have insufficient funds, we will have to deny the request with a message\n",
    "#\"insufficient funds, please make a desposit to complete this purchase\""
   ]
  },
  {
   "cell_type": "code",
   "execution_count": 1,
   "id": "1bc5cba7-0c14-45b6-9e86-2ca95dde6ebf",
   "metadata": {},
   "outputs": [],
   "source": [
    "#if they have the required funds, we will call the api or alpaca to request a \"buy\" for the specific stock and amount requested\n",
    "\n",
    "#upon the completion of the transaction, we will need to deduct the funds from said account. \n"
   ]
  },
  {
   "cell_type": "code",
   "execution_count": null,
   "id": "d42f3f07-16e9-4e86-9ca8-0103ef29ac45",
   "metadata": {},
   "outputs": [],
   "source": [
    "#upon completed purchase, we will return a message\n",
    "#congrats, you made your purchase of stock!"
   ]
  }
 ],
 "metadata": {
  "kernelspec": {
   "display_name": "Python 3 (ipykernel)",
   "language": "python",
   "name": "python3"
  },
  "language_info": {
   "codemirror_mode": {
    "name": "ipython",
    "version": 3
   },
   "file_extension": ".py",
   "mimetype": "text/x-python",
   "name": "python",
   "nbconvert_exporter": "python",
   "pygments_lexer": "ipython3",
   "version": "3.9.12"
  }
 },
 "nbformat": 4,
 "nbformat_minor": 5
}
