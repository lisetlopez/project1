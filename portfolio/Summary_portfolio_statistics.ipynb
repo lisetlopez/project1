{
 "cells": [
  {
   "cell_type": "code",
   "execution_count": 2,
   "id": "1f62037c-98d3-49b7-8f0a-ef629c03b853",
   "metadata": {},
   "outputs": [
    {
     "name": "stdout",
     "output_type": "stream",
     "text": [
      "Collecting yfinance\n",
      "  Downloading yfinance-0.1.77-py2.py3-none-any.whl (28 kB)\n",
      "Requirement already satisfied: lxml>=4.5.1 in /Users/wolfincglobal/opt/anaconda3/envs/dev/lib/python3.7/site-packages (from yfinance) (4.8.0)\n",
      "Requirement already satisfied: pandas>=0.24.0 in /Users/wolfincglobal/opt/anaconda3/envs/dev/lib/python3.7/site-packages (from yfinance) (1.3.5)\n",
      "Requirement already satisfied: numpy>=1.15 in /Users/wolfincglobal/opt/anaconda3/envs/dev/lib/python3.7/site-packages (from yfinance) (1.21.5)\n",
      "Requirement already satisfied: requests>=2.26 in /Users/wolfincglobal/opt/anaconda3/envs/dev/lib/python3.7/site-packages (from yfinance) (2.27.1)\n",
      "Requirement already satisfied: appdirs>=1.4.4 in /Users/wolfincglobal/opt/anaconda3/envs/dev/lib/python3.7/site-packages (from yfinance) (1.4.4)\n",
      "Collecting multitasking>=0.0.7\n",
      "  Downloading multitasking-0.0.11-py3-none-any.whl (8.5 kB)\n",
      "Requirement already satisfied: python-dateutil>=2.7.3 in /Users/wolfincglobal/opt/anaconda3/envs/dev/lib/python3.7/site-packages (from pandas>=0.24.0->yfinance) (2.8.2)\n",
      "Requirement already satisfied: pytz>=2017.3 in /Users/wolfincglobal/opt/anaconda3/envs/dev/lib/python3.7/site-packages (from pandas>=0.24.0->yfinance) (2021.3)\n",
      "Requirement already satisfied: six>=1.5 in /Users/wolfincglobal/opt/anaconda3/envs/dev/lib/python3.7/site-packages (from python-dateutil>=2.7.3->pandas>=0.24.0->yfinance) (1.16.0)\n",
      "Requirement already satisfied: urllib3<1.27,>=1.21.1 in /Users/wolfincglobal/opt/anaconda3/envs/dev/lib/python3.7/site-packages (from requests>=2.26->yfinance) (1.26.9)\n",
      "Requirement already satisfied: idna<4,>=2.5 in /Users/wolfincglobal/opt/anaconda3/envs/dev/lib/python3.7/site-packages (from requests>=2.26->yfinance) (3.3)\n",
      "Requirement already satisfied: certifi>=2017.4.17 in /Users/wolfincglobal/opt/anaconda3/envs/dev/lib/python3.7/site-packages (from requests>=2.26->yfinance) (2021.10.8)\n",
      "Requirement already satisfied: charset-normalizer~=2.0.0 in /Users/wolfincglobal/opt/anaconda3/envs/dev/lib/python3.7/site-packages (from requests>=2.26->yfinance) (2.0.4)\n",
      "Installing collected packages: multitasking, yfinance\n",
      "Successfully installed multitasking-0.0.11 yfinance-0.1.77\n",
      "Note: you may need to restart the kernel to use updated packages.\n"
     ]
    }
   ],
   "source": [
    "pip install yfinance\n"
   ]
  },
  {
   "cell_type": "code",
   "execution_count": 6,
   "id": "afb8f3e9-eec2-4b19-af17-1aa47aee5f5e",
   "metadata": {},
   "outputs": [
    {
     "name": "stdout",
     "output_type": "stream",
     "text": [
      "Collecting finta\n",
      "  Downloading finta-1.3-py3-none-any.whl (29 kB)\n",
      "Requirement already satisfied: numpy in /Users/wolfincglobal/opt/anaconda3/envs/dev/lib/python3.7/site-packages (from finta) (1.21.5)\n",
      "Requirement already satisfied: pandas in /Users/wolfincglobal/opt/anaconda3/envs/dev/lib/python3.7/site-packages (from finta) (1.3.5)\n",
      "Requirement already satisfied: python-dateutil>=2.7.3 in /Users/wolfincglobal/opt/anaconda3/envs/dev/lib/python3.7/site-packages (from pandas->finta) (2.8.2)\n",
      "Requirement already satisfied: pytz>=2017.3 in /Users/wolfincglobal/opt/anaconda3/envs/dev/lib/python3.7/site-packages (from pandas->finta) (2021.3)\n",
      "Requirement already satisfied: six>=1.5 in /Users/wolfincglobal/opt/anaconda3/envs/dev/lib/python3.7/site-packages (from python-dateutil>=2.7.3->pandas->finta) (1.16.0)\n",
      "Installing collected packages: finta\n",
      "Successfully installed finta-1.3\n",
      "Note: you may need to restart the kernel to use updated packages.\n"
     ]
    }
   ],
   "source": [
    "pip install finta\n"
   ]
  },
  {
   "cell_type": "code",
   "execution_count": 39,
   "id": "61096bd2-5e4d-4903-8f63-a0a3a19cae4b",
   "metadata": {},
   "outputs": [],
   "source": [
    "from pathlib import Path\n",
    "import pandas as pd\n",
    "import os\n",
    "from finta import TA\n",
    "import yfinance as yf\n",
    "import datetime as dt\n",
    "import numpy as np\n",
    "import pytz\n",
    "import hvplot.pandas\n",
    "import seaborn as sns\n",
    "%matplotlib inline"
   ]
  },
  {
   "cell_type": "code",
   "execution_count": null,
   "id": "e4f52c50-1556-479b-a5a4-cf47c0335be2",
   "metadata": {},
   "outputs": [],
   "source": [
    "## 5 records x X of variables"
   ]
  },
  {
   "cell_type": "code",
   "execution_count": null,
   "id": "ae10b099-dd49-49ea-9989-432d95465922",
   "metadata": {},
   "outputs": [],
   "source": [
    "## Sharpe ratio, Sortino ratio, Alpha, Standard deviation, variance, covariance"
   ]
  },
  {
   "cell_type": "code",
   "execution_count": 17,
   "id": "92d7b995-d469-4325-b62d-fb886ef9a002",
   "metadata": {},
   "outputs": [],
   "source": [
    "tickr='NIO'\n",
    "tickrs = [\"META\",\"AMZN\",\"GOOG\",\"AAPL\",\"NFLX\"]\n",
    "mkttickr = \"^GSPC\"\n"
   ]
  },
  {
   "cell_type": "code",
   "execution_count": 18,
   "id": "39d01dc7-e22b-4468-83ec-d7474039c812",
   "metadata": {},
   "outputs": [],
   "source": [
    "stock = yf.Ticker(tickr)\n",
    "portfolio = yf.Tickers(tickrs)\n",
    "mkt = yf.Ticker(mkttickr)\n"
   ]
  },
  {
   "cell_type": "code",
   "execution_count": 19,
   "id": "c15f802c-6f2b-4a0b-b2e0-e6871ee92ecf",
   "metadata": {},
   "outputs": [],
   "source": [
    "#ticker names to rename columns in dfs\n",
    "ticker_names = [tickr,tickrs[0],tickrs[1],tickrs[2],tickrs[3],tickrs[4],\"SP500\"]\n"
   ]
  },
  {
   "cell_type": "code",
   "execution_count": 20,
   "id": "f6c4a854-3e54-4384-b97a-bc40a432272c",
   "metadata": {},
   "outputs": [
    {
     "name": "stdout",
     "output_type": "stream",
     "text": [
      "[*********************100%***********************]  5 of 5 completed\n"
     ]
    }
   ],
   "source": [
    "#historical data dataframes\n",
    "\n",
    "stock_history_df = stock.history(period = \"5y\")\n",
    "portfolio_history_df = portfolio.history(period = \"5y\")\n",
    "mkt_history_df = mkt.history(period = \"5y\")\n",
    "\n"
   ]
  },
  {
   "cell_type": "code",
   "execution_count": 21,
   "id": "0f34520e-4481-4136-a568-f0c311f4e7e3",
   "metadata": {},
   "outputs": [
    {
     "data": {
      "text/html": [
       "<div>\n",
       "<style scoped>\n",
       "    .dataframe tbody tr th:only-of-type {\n",
       "        vertical-align: middle;\n",
       "    }\n",
       "\n",
       "    .dataframe tbody tr th {\n",
       "        vertical-align: top;\n",
       "    }\n",
       "\n",
       "    .dataframe thead th {\n",
       "        text-align: right;\n",
       "    }\n",
       "</style>\n",
       "<table border=\"1\" class=\"dataframe\">\n",
       "  <thead>\n",
       "    <tr style=\"text-align: right;\">\n",
       "      <th></th>\n",
       "      <th>NIO</th>\n",
       "      <th>META</th>\n",
       "      <th>AMZN</th>\n",
       "      <th>GOOG</th>\n",
       "      <th>AAPL</th>\n",
       "      <th>NFLX</th>\n",
       "      <th>SP500</th>\n",
       "    </tr>\n",
       "    <tr>\n",
       "      <th>Date</th>\n",
       "      <th></th>\n",
       "      <th></th>\n",
       "      <th></th>\n",
       "      <th></th>\n",
       "      <th></th>\n",
       "      <th></th>\n",
       "      <th></th>\n",
       "    </tr>\n",
       "  </thead>\n",
       "  <tbody>\n",
       "    <tr>\n",
       "      <th>2018-09-12 00:00:00-04:00</th>\n",
       "      <td>6.60</td>\n",
       "      <td>53.245560</td>\n",
       "      <td>99.500000</td>\n",
       "      <td>58.140999</td>\n",
       "      <td>162.000000</td>\n",
       "      <td>369.950012</td>\n",
       "      <td>2888.919922</td>\n",
       "    </tr>\n",
       "    <tr>\n",
       "      <th>2018-09-13 00:00:00-04:00</th>\n",
       "      <td>11.60</td>\n",
       "      <td>54.531712</td>\n",
       "      <td>99.493500</td>\n",
       "      <td>58.766499</td>\n",
       "      <td>161.360001</td>\n",
       "      <td>368.149994</td>\n",
       "      <td>2904.179932</td>\n",
       "    </tr>\n",
       "    <tr>\n",
       "      <th>2018-09-14 00:00:00-04:00</th>\n",
       "      <td>9.90</td>\n",
       "      <td>53.912727</td>\n",
       "      <td>98.509499</td>\n",
       "      <td>58.626499</td>\n",
       "      <td>162.320007</td>\n",
       "      <td>364.559998</td>\n",
       "      <td>2904.979980</td>\n",
       "    </tr>\n",
       "    <tr>\n",
       "      <th>2018-09-17 00:00:00-04:00</th>\n",
       "      <td>8.50</td>\n",
       "      <td>52.477230</td>\n",
       "      <td>95.401497</td>\n",
       "      <td>57.802502</td>\n",
       "      <td>160.580002</td>\n",
       "      <td>350.350006</td>\n",
       "      <td>2888.800049</td>\n",
       "    </tr>\n",
       "    <tr>\n",
       "      <th>2018-09-18 00:00:00-04:00</th>\n",
       "      <td>7.68</td>\n",
       "      <td>52.563942</td>\n",
       "      <td>97.052498</td>\n",
       "      <td>58.061001</td>\n",
       "      <td>160.300003</td>\n",
       "      <td>367.649994</td>\n",
       "      <td>2904.310059</td>\n",
       "    </tr>\n",
       "    <tr>\n",
       "      <th>...</th>\n",
       "      <td>...</td>\n",
       "      <td>...</td>\n",
       "      <td>...</td>\n",
       "      <td>...</td>\n",
       "      <td>...</td>\n",
       "      <td>...</td>\n",
       "      <td>...</td>\n",
       "    </tr>\n",
       "    <tr>\n",
       "      <th>2022-10-10 00:00:00-04:00</th>\n",
       "      <td>13.28</td>\n",
       "      <td>140.419998</td>\n",
       "      <td>113.669998</td>\n",
       "      <td>98.709999</td>\n",
       "      <td>133.789993</td>\n",
       "      <td>229.979996</td>\n",
       "      <td>3612.389893</td>\n",
       "    </tr>\n",
       "    <tr>\n",
       "      <th>2022-10-11 00:00:00-04:00</th>\n",
       "      <td>12.83</td>\n",
       "      <td>138.979996</td>\n",
       "      <td>112.209999</td>\n",
       "      <td>98.050003</td>\n",
       "      <td>128.539993</td>\n",
       "      <td>214.289993</td>\n",
       "      <td>3588.840088</td>\n",
       "    </tr>\n",
       "    <tr>\n",
       "      <th>2022-10-12 00:00:00-04:00</th>\n",
       "      <td>12.88</td>\n",
       "      <td>138.339996</td>\n",
       "      <td>112.900002</td>\n",
       "      <td>98.300003</td>\n",
       "      <td>127.500000</td>\n",
       "      <td>220.869995</td>\n",
       "      <td>3577.030029</td>\n",
       "    </tr>\n",
       "    <tr>\n",
       "      <th>2022-10-13 00:00:00-04:00</th>\n",
       "      <td>12.78</td>\n",
       "      <td>142.990005</td>\n",
       "      <td>112.529999</td>\n",
       "      <td>99.709999</td>\n",
       "      <td>130.289993</td>\n",
       "      <td>232.509995</td>\n",
       "      <td>3669.909912</td>\n",
       "    </tr>\n",
       "    <tr>\n",
       "      <th>2022-10-14 00:00:00-04:00</th>\n",
       "      <td>11.75</td>\n",
       "      <td>138.380005</td>\n",
       "      <td>106.900002</td>\n",
       "      <td>97.180000</td>\n",
       "      <td>126.760002</td>\n",
       "      <td>230.000000</td>\n",
       "      <td>3583.070068</td>\n",
       "    </tr>\n",
       "  </tbody>\n",
       "</table>\n",
       "<p>1031 rows × 7 columns</p>\n",
       "</div>"
      ],
      "text/plain": [
       "                             NIO        META        AMZN       GOOG  \\\n",
       "Date                                                                  \n",
       "2018-09-12 00:00:00-04:00   6.60   53.245560   99.500000  58.140999   \n",
       "2018-09-13 00:00:00-04:00  11.60   54.531712   99.493500  58.766499   \n",
       "2018-09-14 00:00:00-04:00   9.90   53.912727   98.509499  58.626499   \n",
       "2018-09-17 00:00:00-04:00   8.50   52.477230   95.401497  57.802502   \n",
       "2018-09-18 00:00:00-04:00   7.68   52.563942   97.052498  58.061001   \n",
       "...                          ...         ...         ...        ...   \n",
       "2022-10-10 00:00:00-04:00  13.28  140.419998  113.669998  98.709999   \n",
       "2022-10-11 00:00:00-04:00  12.83  138.979996  112.209999  98.050003   \n",
       "2022-10-12 00:00:00-04:00  12.88  138.339996  112.900002  98.300003   \n",
       "2022-10-13 00:00:00-04:00  12.78  142.990005  112.529999  99.709999   \n",
       "2022-10-14 00:00:00-04:00  11.75  138.380005  106.900002  97.180000   \n",
       "\n",
       "                                 AAPL        NFLX        SP500  \n",
       "Date                                                            \n",
       "2018-09-12 00:00:00-04:00  162.000000  369.950012  2888.919922  \n",
       "2018-09-13 00:00:00-04:00  161.360001  368.149994  2904.179932  \n",
       "2018-09-14 00:00:00-04:00  162.320007  364.559998  2904.979980  \n",
       "2018-09-17 00:00:00-04:00  160.580002  350.350006  2888.800049  \n",
       "2018-09-18 00:00:00-04:00  160.300003  367.649994  2904.310059  \n",
       "...                               ...         ...          ...  \n",
       "2022-10-10 00:00:00-04:00  133.789993  229.979996  3612.389893  \n",
       "2022-10-11 00:00:00-04:00  128.539993  214.289993  3588.840088  \n",
       "2022-10-12 00:00:00-04:00  127.500000  220.869995  3577.030029  \n",
       "2022-10-13 00:00:00-04:00  130.289993  232.509995  3669.909912  \n",
       "2022-10-14 00:00:00-04:00  126.760002  230.000000  3583.070068  \n",
       "\n",
       "[1031 rows x 7 columns]"
      ]
     },
     "execution_count": 21,
     "metadata": {},
     "output_type": "execute_result"
    }
   ],
   "source": [
    "#prices df\n",
    "prices_df = pd.concat([\n",
    "     stock_history_df[\"Close\"],portfolio_history_df[\"Close\"],mkt_history_df[\"Close\"]],\n",
    "     axis = 'columns',\n",
    "     join = 'inner'\n",
    "    )\n",
    "\n",
    "#renaming columns, plotting prices\n",
    "prices_df.columns = [ticker_names[0],ticker_names[1],ticker_names[2],ticker_names[3],ticker_names[4],ticker_names[5],ticker_names[6]]\n",
    "\n",
    "prices_df"
   ]
  },
  {
   "cell_type": "code",
   "execution_count": 22,
   "id": "81a73769-2dd4-4f8d-b343-a3a967cc7129",
   "metadata": {},
   "outputs": [
    {
     "data": {
      "text/html": [
       "<div>\n",
       "<style scoped>\n",
       "    .dataframe tbody tr th:only-of-type {\n",
       "        vertical-align: middle;\n",
       "    }\n",
       "\n",
       "    .dataframe tbody tr th {\n",
       "        vertical-align: top;\n",
       "    }\n",
       "\n",
       "    .dataframe thead th {\n",
       "        text-align: right;\n",
       "    }\n",
       "</style>\n",
       "<table border=\"1\" class=\"dataframe\">\n",
       "  <thead>\n",
       "    <tr style=\"text-align: right;\">\n",
       "      <th></th>\n",
       "      <th>NIO</th>\n",
       "      <th>META</th>\n",
       "      <th>AMZN</th>\n",
       "      <th>GOOG</th>\n",
       "      <th>AAPL</th>\n",
       "      <th>NFLX</th>\n",
       "      <th>SP500</th>\n",
       "    </tr>\n",
       "    <tr>\n",
       "      <th>Date</th>\n",
       "      <th></th>\n",
       "      <th></th>\n",
       "      <th></th>\n",
       "      <th></th>\n",
       "      <th></th>\n",
       "      <th></th>\n",
       "      <th></th>\n",
       "    </tr>\n",
       "  </thead>\n",
       "  <tbody>\n",
       "    <tr>\n",
       "      <th>2018-09-13 00:00:00-04:00</th>\n",
       "      <td>0.757576</td>\n",
       "      <td>0.024155</td>\n",
       "      <td>-0.000065</td>\n",
       "      <td>0.010758</td>\n",
       "      <td>-0.003951</td>\n",
       "      <td>-0.004866</td>\n",
       "      <td>0.005282</td>\n",
       "    </tr>\n",
       "    <tr>\n",
       "      <th>2018-09-14 00:00:00-04:00</th>\n",
       "      <td>-0.146552</td>\n",
       "      <td>-0.011351</td>\n",
       "      <td>-0.009890</td>\n",
       "      <td>-0.002382</td>\n",
       "      <td>0.005949</td>\n",
       "      <td>-0.009751</td>\n",
       "      <td>0.000275</td>\n",
       "    </tr>\n",
       "    <tr>\n",
       "      <th>2018-09-17 00:00:00-04:00</th>\n",
       "      <td>-0.141414</td>\n",
       "      <td>-0.026626</td>\n",
       "      <td>-0.031550</td>\n",
       "      <td>-0.014055</td>\n",
       "      <td>-0.010720</td>\n",
       "      <td>-0.038978</td>\n",
       "      <td>-0.005570</td>\n",
       "    </tr>\n",
       "    <tr>\n",
       "      <th>2018-09-18 00:00:00-04:00</th>\n",
       "      <td>-0.096471</td>\n",
       "      <td>0.001652</td>\n",
       "      <td>0.017306</td>\n",
       "      <td>0.004472</td>\n",
       "      <td>-0.001744</td>\n",
       "      <td>0.049379</td>\n",
       "      <td>0.005369</td>\n",
       "    </tr>\n",
       "    <tr>\n",
       "      <th>2018-09-19 00:00:00-04:00</th>\n",
       "      <td>0.106771</td>\n",
       "      <td>0.000596</td>\n",
       "      <td>-0.007537</td>\n",
       "      <td>0.008500</td>\n",
       "      <td>0.017218</td>\n",
       "      <td>-0.001877</td>\n",
       "      <td>0.001253</td>\n",
       "    </tr>\n",
       "    <tr>\n",
       "      <th>...</th>\n",
       "      <td>...</td>\n",
       "      <td>...</td>\n",
       "      <td>...</td>\n",
       "      <td>...</td>\n",
       "      <td>...</td>\n",
       "      <td>...</td>\n",
       "      <td>...</td>\n",
       "    </tr>\n",
       "    <tr>\n",
       "      <th>2022-10-10 00:00:00-04:00</th>\n",
       "      <td>-0.034884</td>\n",
       "      <td>0.002356</td>\n",
       "      <td>-0.007769</td>\n",
       "      <td>-0.008637</td>\n",
       "      <td>0.002548</td>\n",
       "      <td>0.023270</td>\n",
       "      <td>-0.007492</td>\n",
       "    </tr>\n",
       "    <tr>\n",
       "      <th>2022-10-11 00:00:00-04:00</th>\n",
       "      <td>-0.033886</td>\n",
       "      <td>-0.010255</td>\n",
       "      <td>-0.012844</td>\n",
       "      <td>-0.006686</td>\n",
       "      <td>-0.039241</td>\n",
       "      <td>-0.068223</td>\n",
       "      <td>-0.006519</td>\n",
       "    </tr>\n",
       "    <tr>\n",
       "      <th>2022-10-12 00:00:00-04:00</th>\n",
       "      <td>0.003897</td>\n",
       "      <td>-0.004605</td>\n",
       "      <td>0.006149</td>\n",
       "      <td>0.002550</td>\n",
       "      <td>-0.008091</td>\n",
       "      <td>0.030706</td>\n",
       "      <td>-0.003291</td>\n",
       "    </tr>\n",
       "    <tr>\n",
       "      <th>2022-10-13 00:00:00-04:00</th>\n",
       "      <td>-0.007764</td>\n",
       "      <td>0.033613</td>\n",
       "      <td>-0.003277</td>\n",
       "      <td>0.014344</td>\n",
       "      <td>0.021882</td>\n",
       "      <td>0.052701</td>\n",
       "      <td>0.025966</td>\n",
       "    </tr>\n",
       "    <tr>\n",
       "      <th>2022-10-14 00:00:00-04:00</th>\n",
       "      <td>-0.080595</td>\n",
       "      <td>-0.032240</td>\n",
       "      <td>-0.050031</td>\n",
       "      <td>-0.025374</td>\n",
       "      <td>-0.027093</td>\n",
       "      <td>-0.010795</td>\n",
       "      <td>-0.023663</td>\n",
       "    </tr>\n",
       "  </tbody>\n",
       "</table>\n",
       "<p>1030 rows × 7 columns</p>\n",
       "</div>"
      ],
      "text/plain": [
       "                                NIO      META      AMZN      GOOG      AAPL  \\\n",
       "Date                                                                          \n",
       "2018-09-13 00:00:00-04:00  0.757576  0.024155 -0.000065  0.010758 -0.003951   \n",
       "2018-09-14 00:00:00-04:00 -0.146552 -0.011351 -0.009890 -0.002382  0.005949   \n",
       "2018-09-17 00:00:00-04:00 -0.141414 -0.026626 -0.031550 -0.014055 -0.010720   \n",
       "2018-09-18 00:00:00-04:00 -0.096471  0.001652  0.017306  0.004472 -0.001744   \n",
       "2018-09-19 00:00:00-04:00  0.106771  0.000596 -0.007537  0.008500  0.017218   \n",
       "...                             ...       ...       ...       ...       ...   \n",
       "2022-10-10 00:00:00-04:00 -0.034884  0.002356 -0.007769 -0.008637  0.002548   \n",
       "2022-10-11 00:00:00-04:00 -0.033886 -0.010255 -0.012844 -0.006686 -0.039241   \n",
       "2022-10-12 00:00:00-04:00  0.003897 -0.004605  0.006149  0.002550 -0.008091   \n",
       "2022-10-13 00:00:00-04:00 -0.007764  0.033613 -0.003277  0.014344  0.021882   \n",
       "2022-10-14 00:00:00-04:00 -0.080595 -0.032240 -0.050031 -0.025374 -0.027093   \n",
       "\n",
       "                               NFLX     SP500  \n",
       "Date                                           \n",
       "2018-09-13 00:00:00-04:00 -0.004866  0.005282  \n",
       "2018-09-14 00:00:00-04:00 -0.009751  0.000275  \n",
       "2018-09-17 00:00:00-04:00 -0.038978 -0.005570  \n",
       "2018-09-18 00:00:00-04:00  0.049379  0.005369  \n",
       "2018-09-19 00:00:00-04:00 -0.001877  0.001253  \n",
       "...                             ...       ...  \n",
       "2022-10-10 00:00:00-04:00  0.023270 -0.007492  \n",
       "2022-10-11 00:00:00-04:00 -0.068223 -0.006519  \n",
       "2022-10-12 00:00:00-04:00  0.030706 -0.003291  \n",
       "2022-10-13 00:00:00-04:00  0.052701  0.025966  \n",
       "2022-10-14 00:00:00-04:00 -0.010795 -0.023663  \n",
       "\n",
       "[1030 rows x 7 columns]"
      ]
     },
     "execution_count": 22,
     "metadata": {},
     "output_type": "execute_result"
    }
   ],
   "source": [
    "# combined returns dataframe (close price, daily, 5 years)\n",
    "\n",
    "#combine data frames using only Close column\n",
    "returns_df = pd.concat([\n",
    "     stock_history_df[\"Close\"],portfolio_history_df[\"Close\"],mkt_history_df[\"Close\"]],\n",
    "     axis = 'columns',\n",
    "     join = 'inner'\n",
    ")\n",
    "#renaming columns\n",
    "returns_df.columns = [ticker_names[0],ticker_names[1],ticker_names[2],ticker_names[3],ticker_names[4],ticker_names[5],ticker_names[6]]\n",
    "\n",
    "#calculate returns\n",
    "returns_df = returns_df.pct_change().dropna() \n",
    "\n",
    "returns_df"
   ]
  },
  {
   "cell_type": "code",
   "execution_count": 23,
   "id": "9689702d-793a-458f-b7d9-0cf9183aba8b",
   "metadata": {},
   "outputs": [
    {
     "data": {
      "text/plain": [
       "SP500    0.014371\n",
       "GOOG     0.019835\n",
       "META     0.021753\n",
       "AMZN     0.022847\n",
       "AAPL     0.026313\n",
       "NFLX     0.030253\n",
       "NIO      0.062924\n",
       "dtype: float64"
      ]
     },
     "execution_count": 23,
     "metadata": {},
     "output_type": "execute_result"
    }
   ],
   "source": [
    "std_devs = returns_df.std()\n",
    "std_devs.sort_values()"
   ]
  },
  {
   "cell_type": "code",
   "execution_count": 24,
   "id": "5e860ea5-d88f-45f1-b477-caf483edcf8d",
   "metadata": {},
   "outputs": [
    {
     "data": {
      "text/plain": [
       "SP500    0.228136\n",
       "GOOG     0.314878\n",
       "META     0.345314\n",
       "AMZN     0.362682\n",
       "AAPL     0.417713\n",
       "NFLX     0.480255\n",
       "NIO      0.998889\n",
       "dtype: float64"
      ]
     },
     "execution_count": 24,
     "metadata": {},
     "output_type": "execute_result"
    }
   ],
   "source": [
    "number_of_trading_days = 252\n",
    "annualized_std_devs = std_devs*np.sqrt(number_of_trading_days)\n",
    "annualized_std_devs.sort_values()"
   ]
  },
  {
   "cell_type": "code",
   "execution_count": 29,
   "id": "119896c1-9136-4a5e-bf20-873e0c94bdd3",
   "metadata": {},
   "outputs": [
    {
     "name": "stdout",
     "output_type": "stream",
     "text": [
      "                                NIO      META      AMZN      GOOG      AAPL  \\\n",
      "Date                                                                          \n",
      "2018-10-11 00:00:00-04:00  0.189825  0.016693  0.018822  0.015128  0.016692   \n",
      "2018-10-12 00:00:00-04:00  0.085997  0.017734  0.021419  0.016402  0.016724   \n",
      "2018-10-15 00:00:00-04:00  0.081768  0.018163  0.021519  0.016663  0.016622   \n",
      "2018-10-16 00:00:00-04:00  0.076120  0.017864  0.022195  0.017673  0.018323   \n",
      "2018-10-17 00:00:00-04:00  0.073321  0.017902  0.021846  0.017639  0.018345   \n",
      "...                             ...       ...       ...       ...       ...   \n",
      "2022-10-10 00:00:00-04:00  0.056228  0.025527  0.027405  0.020929  0.028381   \n",
      "2022-10-11 00:00:00-04:00  0.044385  0.023499  0.026481  0.020877  0.028950   \n",
      "2022-10-12 00:00:00-04:00  0.044167  0.020354  0.022552  0.017098  0.022187   \n",
      "2022-10-13 00:00:00-04:00  0.044024  0.021828  0.022141  0.017431  0.023139   \n",
      "2022-10-14 00:00:00-04:00  0.045668  0.022476  0.024033  0.017799  0.023530   \n",
      "\n",
      "                               NFLX     SP500  \n",
      "Date                                           \n",
      "2018-10-11 00:00:00-04:00  0.027715  0.009082  \n",
      "2018-10-12 00:00:00-04:00  0.031024  0.009663  \n",
      "2018-10-15 00:00:00-04:00  0.031183  0.009676  \n",
      "2018-10-16 00:00:00-04:00  0.031481  0.010970  \n",
      "2018-10-17 00:00:00-04:00  0.031760  0.010868  \n",
      "...                             ...       ...  \n",
      "2022-10-10 00:00:00-04:00  0.037176  0.017467  \n",
      "2022-10-11 00:00:00-04:00  0.039881  0.017074  \n",
      "2022-10-12 00:00:00-04:00  0.036738  0.014832  \n",
      "2022-10-13 00:00:00-04:00  0.038029  0.016181  \n",
      "2022-10-14 00:00:00-04:00  0.036495  0.016702  \n",
      "\n",
      "[1010 rows x 7 columns]\n"
     ]
    }
   ],
   "source": [
    "rolling_std21ds = returns_df.rolling(window=21).std().dropna()\n",
    "print(rolling_std21ds)"
   ]
  },
  {
   "cell_type": "code",
   "execution_count": 31,
   "id": "53927222-7e90-4508-81a6-d399e850d2c2",
   "metadata": {},
   "outputs": [
    {
     "name": "stdout",
     "output_type": "stream",
     "text": [
      "       Covariance\n",
      "NIO      0.000270\n",
      "META     0.000252\n",
      "AMZN     0.000220\n",
      "GOOG     0.000227\n",
      "AAPL     0.000253\n",
      "NFLX     0.000220\n",
      "SP500    0.000207\n"
     ]
    }
   ],
   "source": [
    "# Stock Covariance Calculation into a df\n",
    "covariance_df = returns_df.cov()\n",
    "covariance_df = covariance_df[[\"SP500\"]]\n",
    "covariance_df.columns = [\"Covariance\"]\n",
    "# display(covariance_df)\n",
    "print(covariance_df)"
   ]
  },
  {
   "cell_type": "code",
   "execution_count": 33,
   "id": "6d60210d-fad6-44b9-a20a-8b9e7fc983af",
   "metadata": {},
   "outputs": [
    {
     "name": "stdout",
     "output_type": "stream",
     "text": [
      "0.0002065315486602782\n"
     ]
    }
   ],
   "source": [
    "#variance calculation\n",
    "variance = returns_df['SP500'].var()\n",
    "# print(variance)\n",
    "print(variance)\n"
   ]
  },
  {
   "cell_type": "code",
   "execution_count": 35,
   "id": "10259a59-4de5-4fc7-822a-56afff8547a9",
   "metadata": {},
   "outputs": [
    {
     "name": "stdout",
     "output_type": "stream",
     "text": [
      "           Beta\n",
      "NIO    1.308343\n",
      "META   1.221694\n",
      "AMZN   1.065428\n",
      "GOOG   1.098816\n",
      "AAPL   1.224917\n",
      "NFLX   1.066770\n",
      "SP500  1.000000\n"
     ]
    }
   ],
   "source": [
    "# Beta calculation into a df\n",
    "beta_df = returns_df.cov()/variance\n",
    "beta_df = beta_df[[\"SP500\"]]\n",
    "beta_df.columns = [\"Beta\"]\n",
    "# beta_df\n",
    "print(beta_df)"
   ]
  },
  {
   "cell_type": "code",
   "execution_count": 36,
   "id": "b05ca7f8-9ce2-43fd-9745-42560307b384",
   "metadata": {},
   "outputs": [
    {
     "data": {
      "text/plain": [
       "NFLX     0.004382\n",
       "AAPL     0.028898\n",
       "SP500    0.078855\n",
       "AMZN     0.083360\n",
       "GOOG     0.175235\n",
       "META     0.293492\n",
       "NIO      0.599924\n",
       "dtype: float64"
      ]
     },
     "execution_count": 36,
     "metadata": {},
     "output_type": "execute_result"
    }
   ],
   "source": [
    "# Calculate the annual average return data for the for the portfolio and the S&P 500\n",
    "# Review the annual average returns sorted from lowest to highest\n",
    "annualized_average_returns = returns_df.mean()*number_of_trading_days\n",
    "annualized_average_returns.sort_values()"
   ]
  },
  {
   "cell_type": "code",
   "execution_count": 37,
   "id": "971dc3c4-5224-4200-b2a2-89b5f2ea3279",
   "metadata": {},
   "outputs": [
    {
     "data": {
      "text/plain": [
       "NFLX     0.009124\n",
       "AAPL     0.069180\n",
       "AMZN     0.229845\n",
       "SP500    0.345647\n",
       "GOOG     0.556516\n",
       "NIO      0.600591\n",
       "META     0.849927\n",
       "dtype: float64"
      ]
     },
     "execution_count": 37,
     "metadata": {},
     "output_type": "execute_result"
    }
   ],
   "source": [
    "# Calculate the annualized Sharpe Ratios for the portfolio and the S&P 500.\n",
    "# Review the Sharpe ratios sorted lowest to highest\n",
    "sharpe_ratios = annualized_average_returns/annualized_std_devs\n",
    "sharpe_ratios.sort_values()"
   ]
  },
  {
   "cell_type": "code",
   "execution_count": 38,
   "id": "404f2b1b-14d3-4b8b-9b20-13308ebe8500",
   "metadata": {},
   "outputs": [
    {
     "data": {
      "text/html": [
       "<div>\n",
       "<style scoped>\n",
       "    .dataframe tbody tr th:only-of-type {\n",
       "        vertical-align: middle;\n",
       "    }\n",
       "\n",
       "    .dataframe tbody tr th {\n",
       "        vertical-align: top;\n",
       "    }\n",
       "\n",
       "    .dataframe thead th {\n",
       "        text-align: right;\n",
       "    }\n",
       "</style>\n",
       "<table border=\"1\" class=\"dataframe\">\n",
       "  <thead>\n",
       "    <tr style=\"text-align: right;\">\n",
       "      <th></th>\n",
       "      <th>Correlation</th>\n",
       "      <th>Volatility</th>\n",
       "      <th>Sharpe</th>\n",
       "      <th>Sortino</th>\n",
       "      <th>Covariance</th>\n",
       "      <th>Beta</th>\n",
       "    </tr>\n",
       "  </thead>\n",
       "  <tbody>\n",
       "    <tr>\n",
       "      <th>NIO</th>\n",
       "      <td>0.298812</td>\n",
       "      <td>0.998889</td>\n",
       "      <td>0.600591</td>\n",
       "      <td>1.195495</td>\n",
       "      <td>0.000270</td>\n",
       "      <td>1.308343</td>\n",
       "    </tr>\n",
       "    <tr>\n",
       "      <th>META</th>\n",
       "      <td>0.807126</td>\n",
       "      <td>0.345314</td>\n",
       "      <td>0.849927</td>\n",
       "      <td>1.159902</td>\n",
       "      <td>0.000252</td>\n",
       "      <td>1.221694</td>\n",
       "    </tr>\n",
       "    <tr>\n",
       "      <th>AMZN</th>\n",
       "      <td>0.670181</td>\n",
       "      <td>0.362682</td>\n",
       "      <td>0.229845</td>\n",
       "      <td>0.321600</td>\n",
       "      <td>0.000220</td>\n",
       "      <td>1.065428</td>\n",
       "    </tr>\n",
       "    <tr>\n",
       "      <th>GOOG</th>\n",
       "      <td>0.796115</td>\n",
       "      <td>0.314878</td>\n",
       "      <td>0.556516</td>\n",
       "      <td>0.763351</td>\n",
       "      <td>0.000227</td>\n",
       "      <td>1.098816</td>\n",
       "    </tr>\n",
       "    <tr>\n",
       "      <th>AAPL</th>\n",
       "      <td>0.668994</td>\n",
       "      <td>0.417713</td>\n",
       "      <td>0.069180</td>\n",
       "      <td>0.088456</td>\n",
       "      <td>0.000253</td>\n",
       "      <td>1.224917</td>\n",
       "    </tr>\n",
       "    <tr>\n",
       "      <th>NFLX</th>\n",
       "      <td>0.506748</td>\n",
       "      <td>0.480255</td>\n",
       "      <td>0.009124</td>\n",
       "      <td>0.011179</td>\n",
       "      <td>0.000220</td>\n",
       "      <td>1.066770</td>\n",
       "    </tr>\n",
       "    <tr>\n",
       "      <th>SP500</th>\n",
       "      <td>1.000000</td>\n",
       "      <td>0.228136</td>\n",
       "      <td>0.345647</td>\n",
       "      <td>0.412678</td>\n",
       "      <td>0.000207</td>\n",
       "      <td>1.000000</td>\n",
       "    </tr>\n",
       "  </tbody>\n",
       "</table>\n",
       "</div>"
      ],
      "text/plain": [
       "       Correlation  Volatility    Sharpe   Sortino  Covariance      Beta\n",
       "NIO       0.298812    0.998889  0.600591  1.195495    0.000270  1.308343\n",
       "META      0.807126    0.345314  0.849927  1.159902    0.000252  1.221694\n",
       "AMZN      0.670181    0.362682  0.229845  0.321600    0.000220  1.065428\n",
       "GOOG      0.796115    0.314878  0.556516  0.763351    0.000227  1.098816\n",
       "AAPL      0.668994    0.417713  0.069180  0.088456    0.000253  1.224917\n",
       "NFLX      0.506748    0.480255  0.009124  0.011179    0.000220  1.066770\n",
       "SP500     1.000000    0.228136  0.345647  0.412678    0.000207  1.000000"
      ]
     },
     "execution_count": 38,
     "metadata": {},
     "output_type": "execute_result"
    }
   ],
   "source": [
    "#Create df starting by correlation\n",
    "ratios_df = returns_df.corr()\n",
    "ratios_df.drop(ratios_df.columns[0:-1],axis=1,inplace = True) #drop columns for correlation against each other, leave only correlation against SP500\n",
    "ratios_df.rename(columns = {\"SP500\":\"Correlation\"},inplace = True) #rename column from SP500 to Correlation\n",
    "\n",
    "#calculate additional ratios \n",
    "ratios_df[\"Volatility\"] = returns_df.std() * np.sqrt(252)\n",
    "ratios_df[\"Sharpe\"] =  (returns_df.mean() * 252) / (returns_df.std() * np.sqrt(252))\n",
    "ratios_df[\"Sortino\"] = (returns_df.mean() * 252) / (returns_df[returns_df<0].std() * np.sqrt(252))\n",
    "\n",
    "#add covariance and beta from calculation in cell above\n",
    "ratios_df[\"Covariance\"] = covariance_df[\"Covariance\"]\n",
    "ratios_df[\"Beta\"] = beta_df[\"Beta\"]\n",
    "ratios_df"
   ]
  },
  {
   "cell_type": "code",
   "execution_count": 82,
   "id": "b23f78ab-7a6d-4fd0-a8f4-c0599d25eb34",
   "metadata": {},
   "outputs": [
    {
     "ename": "KeyError",
     "evalue": "'Close'",
     "output_type": "error",
     "traceback": [
      "\u001b[0;31m---------------------------------------------------------------------------\u001b[0m",
      "\u001b[0;31mKeyError\u001b[0m                                  Traceback (most recent call last)",
      "\u001b[0;32m~/opt/anaconda3/envs/dev/lib/python3.7/site-packages/pandas/core/indexes/base.py\u001b[0m in \u001b[0;36mget_loc\u001b[0;34m(self, key, method, tolerance)\u001b[0m\n\u001b[1;32m   3360\u001b[0m             \u001b[0;32mtry\u001b[0m\u001b[0;34m:\u001b[0m\u001b[0;34m\u001b[0m\u001b[0;34m\u001b[0m\u001b[0m\n\u001b[0;32m-> 3361\u001b[0;31m                 \u001b[0;32mreturn\u001b[0m \u001b[0mself\u001b[0m\u001b[0;34m.\u001b[0m\u001b[0m_engine\u001b[0m\u001b[0;34m.\u001b[0m\u001b[0mget_loc\u001b[0m\u001b[0;34m(\u001b[0m\u001b[0mcasted_key\u001b[0m\u001b[0;34m)\u001b[0m\u001b[0;34m\u001b[0m\u001b[0;34m\u001b[0m\u001b[0m\n\u001b[0m\u001b[1;32m   3362\u001b[0m             \u001b[0;32mexcept\u001b[0m \u001b[0mKeyError\u001b[0m \u001b[0;32mas\u001b[0m \u001b[0merr\u001b[0m\u001b[0;34m:\u001b[0m\u001b[0;34m\u001b[0m\u001b[0;34m\u001b[0m\u001b[0m\n",
      "\u001b[0;32m~/opt/anaconda3/envs/dev/lib/python3.7/site-packages/pandas/_libs/index.pyx\u001b[0m in \u001b[0;36mpandas._libs.index.IndexEngine.get_loc\u001b[0;34m()\u001b[0m\n",
      "\u001b[0;32m~/opt/anaconda3/envs/dev/lib/python3.7/site-packages/pandas/_libs/index.pyx\u001b[0m in \u001b[0;36mpandas._libs.index.IndexEngine.get_loc\u001b[0;34m()\u001b[0m\n",
      "\u001b[0;32mpandas/_libs/hashtable_class_helper.pxi\u001b[0m in \u001b[0;36mpandas._libs.hashtable.PyObjectHashTable.get_item\u001b[0;34m()\u001b[0m\n",
      "\u001b[0;32mpandas/_libs/hashtable_class_helper.pxi\u001b[0m in \u001b[0;36mpandas._libs.hashtable.PyObjectHashTable.get_item\u001b[0;34m()\u001b[0m\n",
      "\u001b[0;31mKeyError\u001b[0m: 'Close'",
      "\nThe above exception was the direct cause of the following exception:\n",
      "\u001b[0;31mKeyError\u001b[0m                                  Traceback (most recent call last)",
      "\u001b[0;32m/var/folders/d9/9k6zhg5x2xgbnnvp7yxm5c3r0000gn/T/ipykernel_55161/230230695.py\u001b[0m in \u001b[0;36m<module>\u001b[0;34m\u001b[0m\n\u001b[1;32m      1\u001b[0m \u001b[0;31m## combine dfs into current_portfolio_df matching Esteban's data requirements\u001b[0m\u001b[0;34m\u001b[0m\u001b[0;34m\u001b[0m\u001b[0;34m\u001b[0m\u001b[0m\n\u001b[1;32m      2\u001b[0m current_portfolio_df = pd.concat([\n\u001b[0;32m----> 3\u001b[0;31m     prices_df[\"Close\"], returns_df[\"Close\"], ratios_df[\"Correlation\", \"Volatility\", \"Sharpe\", \"Sortino\", \"Covariance\", \"Beta\"]],\n\u001b[0m\u001b[1;32m      4\u001b[0m     \u001b[0maxis\u001b[0m\u001b[0;34m=\u001b[0m\u001b[0;34m'columns'\u001b[0m\u001b[0;34m,\u001b[0m\u001b[0;34m\u001b[0m\u001b[0;34m\u001b[0m\u001b[0m\n\u001b[1;32m      5\u001b[0m     \u001b[0mjoin\u001b[0m\u001b[0;34m=\u001b[0m\u001b[0;34m'inner'\u001b[0m\u001b[0;34m\u001b[0m\u001b[0;34m\u001b[0m\u001b[0m\n",
      "\u001b[0;32m~/opt/anaconda3/envs/dev/lib/python3.7/site-packages/pandas/core/frame.py\u001b[0m in \u001b[0;36m__getitem__\u001b[0;34m(self, key)\u001b[0m\n\u001b[1;32m   3456\u001b[0m             \u001b[0;32mif\u001b[0m \u001b[0mself\u001b[0m\u001b[0;34m.\u001b[0m\u001b[0mcolumns\u001b[0m\u001b[0;34m.\u001b[0m\u001b[0mnlevels\u001b[0m \u001b[0;34m>\u001b[0m \u001b[0;36m1\u001b[0m\u001b[0;34m:\u001b[0m\u001b[0;34m\u001b[0m\u001b[0;34m\u001b[0m\u001b[0m\n\u001b[1;32m   3457\u001b[0m                 \u001b[0;32mreturn\u001b[0m \u001b[0mself\u001b[0m\u001b[0;34m.\u001b[0m\u001b[0m_getitem_multilevel\u001b[0m\u001b[0;34m(\u001b[0m\u001b[0mkey\u001b[0m\u001b[0;34m)\u001b[0m\u001b[0;34m\u001b[0m\u001b[0;34m\u001b[0m\u001b[0m\n\u001b[0;32m-> 3458\u001b[0;31m             \u001b[0mindexer\u001b[0m \u001b[0;34m=\u001b[0m \u001b[0mself\u001b[0m\u001b[0;34m.\u001b[0m\u001b[0mcolumns\u001b[0m\u001b[0;34m.\u001b[0m\u001b[0mget_loc\u001b[0m\u001b[0;34m(\u001b[0m\u001b[0mkey\u001b[0m\u001b[0;34m)\u001b[0m\u001b[0;34m\u001b[0m\u001b[0;34m\u001b[0m\u001b[0m\n\u001b[0m\u001b[1;32m   3459\u001b[0m             \u001b[0;32mif\u001b[0m \u001b[0mis_integer\u001b[0m\u001b[0;34m(\u001b[0m\u001b[0mindexer\u001b[0m\u001b[0;34m)\u001b[0m\u001b[0;34m:\u001b[0m\u001b[0;34m\u001b[0m\u001b[0;34m\u001b[0m\u001b[0m\n\u001b[1;32m   3460\u001b[0m                 \u001b[0mindexer\u001b[0m \u001b[0;34m=\u001b[0m \u001b[0;34m[\u001b[0m\u001b[0mindexer\u001b[0m\u001b[0;34m]\u001b[0m\u001b[0;34m\u001b[0m\u001b[0;34m\u001b[0m\u001b[0m\n",
      "\u001b[0;32m~/opt/anaconda3/envs/dev/lib/python3.7/site-packages/pandas/core/indexes/base.py\u001b[0m in \u001b[0;36mget_loc\u001b[0;34m(self, key, method, tolerance)\u001b[0m\n\u001b[1;32m   3361\u001b[0m                 \u001b[0;32mreturn\u001b[0m \u001b[0mself\u001b[0m\u001b[0;34m.\u001b[0m\u001b[0m_engine\u001b[0m\u001b[0;34m.\u001b[0m\u001b[0mget_loc\u001b[0m\u001b[0;34m(\u001b[0m\u001b[0mcasted_key\u001b[0m\u001b[0;34m)\u001b[0m\u001b[0;34m\u001b[0m\u001b[0;34m\u001b[0m\u001b[0m\n\u001b[1;32m   3362\u001b[0m             \u001b[0;32mexcept\u001b[0m \u001b[0mKeyError\u001b[0m \u001b[0;32mas\u001b[0m \u001b[0merr\u001b[0m\u001b[0;34m:\u001b[0m\u001b[0;34m\u001b[0m\u001b[0;34m\u001b[0m\u001b[0m\n\u001b[0;32m-> 3363\u001b[0;31m                 \u001b[0;32mraise\u001b[0m \u001b[0mKeyError\u001b[0m\u001b[0;34m(\u001b[0m\u001b[0mkey\u001b[0m\u001b[0;34m)\u001b[0m \u001b[0;32mfrom\u001b[0m \u001b[0merr\u001b[0m\u001b[0;34m\u001b[0m\u001b[0;34m\u001b[0m\u001b[0m\n\u001b[0m\u001b[1;32m   3364\u001b[0m \u001b[0;34m\u001b[0m\u001b[0m\n\u001b[1;32m   3365\u001b[0m         \u001b[0;32mif\u001b[0m \u001b[0mis_scalar\u001b[0m\u001b[0;34m(\u001b[0m\u001b[0mkey\u001b[0m\u001b[0;34m)\u001b[0m \u001b[0;32mand\u001b[0m \u001b[0misna\u001b[0m\u001b[0;34m(\u001b[0m\u001b[0mkey\u001b[0m\u001b[0;34m)\u001b[0m \u001b[0;32mand\u001b[0m \u001b[0;32mnot\u001b[0m \u001b[0mself\u001b[0m\u001b[0;34m.\u001b[0m\u001b[0mhasnans\u001b[0m\u001b[0;34m:\u001b[0m\u001b[0;34m\u001b[0m\u001b[0;34m\u001b[0m\u001b[0m\n",
      "\u001b[0;31mKeyError\u001b[0m: 'Close'"
     ]
    }
   ],
   "source": [
    "## combine dfs into current_portfolio_df matching Esteban's data requirements\n",
    "current_portfolio_df = pd.concat([\n",
    "    prices_df[\"Close\"], returns_df[\"Close\"], ratios_df[\"Correlation\", \"Volatility\", \"Sharpe\", \"Sortino\", \"Covariance\", \"Beta\"]],\n",
    "    axis='columns',\n",
    "    join='inner'\n",
    ")"
   ]
  },
  {
   "cell_type": "code",
   "execution_count": 83,
   "id": "175061e0-d39c-410c-be7b-2f655a92d1dd",
   "metadata": {},
   "outputs": [],
   "source": [
    "## MC simulation attempt1\n",
    "def __init__(self, portfolio_history_df, weights=\"\", num_simulation=1000, num_trading_days=252):\n",
    "    if not isinstance(portfolio_history_df, pd.DataFrame):\n",
    "            raise TypeError(\"portfolio_data must be a Pandas DataFrame\")\n",
    "    if weights == \"\":\n",
    "            num_stocks = len(portfolio_history_df.columns.get_level_values(0).unique())\n",
    "            weights = [1.0/num_stocks for s in range(0,num_stocks)]\n",
    "    else:\n",
    "            if round(sum(weights),2) < .99:\n",
    "                raise AttributeError(\"Sum of portfolio weights must equal one.\")\n",
    "    if not \"daily_return\" in portfolio_data.columns.get_level_values(1).unique():\n",
    "            close_df = portfolio_data.xs('close',level=1,axis=1).pct_change()\n",
    "            tickers = portfolio_data.columns.get_level_values(0).unique()\n",
    "            column_names = [(x,\"daily_return\") for x in tickers]\n",
    "            close_df.columns = pd.MultiIndex.from_tuples(column_names)\n",
    "            portfolio_data = portfolio_data.merge(close_df,left_index=True,right_index=True).reindex(columns=tickers,level=0) \n",
    "    self.portfolio_data = portfolio_data\n",
    "    self.weights = weights\n",
    "    self.nSim = num_simulation\n",
    "    self.nTrading = num_trading_days\n",
    "    self.simulated_return = \"\""
   ]
  },
  {
   "cell_type": "code",
   "execution_count": 78,
   "id": "dd2acb40-467f-4565-868c-23f936498a48",
   "metadata": {},
   "outputs": [],
   "source": [
    " def calc_cumulative_return(self):\n",
    "        last_prices = self.portfolio_history_df.xs('close',level=1,axis=1)[-1:].values.tolist()[0]\n",
    "        daily_returns = self.portfolio_history_df.xs('daily_return',level=1,axis=1)\n",
    "        mean_returns = returns_df.mean().tolist()\n",
    "        std_returns = returns_df.std().tolist()\n",
    "        portfolio_cumulative_returns = pd.DataFrame()\n",
    "        for n in range(self.nSim):\n",
    "        \n",
    "            if n % 10 == 0:\n",
    "                print(f\"Running Monte Carlo simulation number {n}.\")\n",
    "            simvals = [[p] for p in last_prices]\n",
    "            for s in range(len(last_prices)):\n",
    "                for i in range(self.nTrading):\n",
    "                    simvals[s].append(simvals[s][-1] * (1 + np.random.normal(mean_returns[s], std_returns[s])))\n",
    "            sim_df = pd.DataFrame(simvals).T.pct_change()\n",
    "            sim_df = sim_df.dot(self.weights)\n",
    "            portfolio_cumulative_returns[n] = (1 + sim_df.fillna(0)).cumprod()\n",
    "        self.simulated_return = portfolio_cumulative_returns\n",
    "        self.confidence_interval = portfolio_cumulative_returns.iloc[-1, :].quantile(q=[0.025, 0.975])\n",
    "        return portfolio_cumulative_returns"
   ]
  },
  {
   "cell_type": "code",
   "execution_count": 81,
   "id": "066a8106-0054-43f0-a5d8-51aa1879327d",
   "metadata": {},
   "outputs": [],
   "source": [
    "def plot_simulation(self):\n",
    "    if not isinstance(self.simulated_return,pd.DataFrame):\n",
    "            self.calc_cumulative_return()\n",
    "    plot_title = f\"{self.nSim} Simulations of Cumulative Portfolio Return Trajectories Over the Next {self.nTrading} Trading Days.\"\n",
    "    return self.simulated_return.plot(legend=None,title=plot_title)"
   ]
  },
  {
   "cell_type": "code",
   "execution_count": null,
   "id": "979c7b67-57b1-464f-9817-339c93a53c5b",
   "metadata": {},
   "outputs": [],
   "source": [
    "def plot_distribution(self):\n",
    "    if not isinstance(self.simulated_return,pd.DataFrame):\n",
    "            self.calc_cumulative_return()\n",
    "    plot_title = f\"Distribution of Final Cumuluative Returns Across All {self.nSim} Simulations\"\n",
    "    plt = self.simulated_return.iloc[-1, :].plot(kind='hist', bins=10,density=True,title=plot_title)\n",
    "    plt.axvline(self.confidence_interval.iloc[0], color='r')\n",
    "    plt.axvline(self.confidence_interval.iloc[1], color='r')\n",
    "    return plt"
   ]
  },
  {
   "cell_type": "code",
   "execution_count": null,
   "id": "3ae1c006-4c8a-4fcd-8d56-d20b5756ab5e",
   "metadata": {},
   "outputs": [],
   "source": [
    "def summarize_cumulative_return(self):\n",
    "    if not isinstance(self.simulated_return,pd.DataFrame):\n",
    "            self.calc_cumulative_return()    \n",
    "    metrics = self.simulated_return.iloc[-1].describe()\n",
    "    ci_series = self.confidence_interval\n",
    "    ci_series.index = [\"95% CI Lower\",\"95% CI Upper\"]\n",
    "    return metrics.append(ci_series)"
   ]
  },
  {
   "cell_type": "code",
   "execution_count": 14,
   "id": "ac4a2f47-c5cf-4379-88a8-34444c7d0155",
   "metadata": {},
   "outputs": [
    {
     "ename": "IndentationError",
     "evalue": "unindent does not match any outer indentation level (<tokenize>, line 5)",
     "output_type": "error",
     "traceback": [
      "\u001b[0;36m  File \u001b[0;32m\"<tokenize>\"\u001b[0;36m, line \u001b[0;32m5\u001b[0m\n\u001b[0;31m    tickrs.append('SPY')\u001b[0m\n\u001b[0m    ^\u001b[0m\n\u001b[0;31mIndentationError\u001b[0m\u001b[0;31m:\u001b[0m unindent does not match any outer indentation level\n"
     ]
    }
   ],
   "source": [
    "def perform_portfolio_analysis(user_df, portfolio_df):\n",
    "    \n",
    "    # get the list of all stock names in the user portfolio and also add SPY in it\n",
    "     tickrs = portfolio_df['ticker'].tolist()\n",
    "    tickrs.append('SPY')\n",
    "    \n",
    "     # use yahoo finance to retrieve 5 yrs of price data\n",
    "            \n",
    "    # use pct_change to convert into returns\n",
    "    \n",
    "    # once u have returns - u can calculate beta (risk free return / std dev), std, cumulative returns (cumprod), variance/covariance(.var() and .cov(),\n",
    "    # sharpe ratio, sortino ratio\n",
    "    # monte carlo output from liset's function\n",
    "    \n",
    "    \n",
    "    \n",
    "    # put all these results in dataframe(s) in a format agreed with Esteban\n",
    "    # call Report function from Esteban's file\n",
    "    \n",
    "    return True\n",
    "    \n",
    "    \n",
    "    \n",
    "    \n",
    "    \n",
    "    \n",
    "    "
   ]
  },
  {
   "cell_type": "code",
   "execution_count": null,
   "id": "e74f5821-198d-445d-8be5-f4cf9ba71634",
   "metadata": {},
   "outputs": [],
   "source": []
  },
  {
   "cell_type": "code",
   "execution_count": null,
   "id": "7b503c9f-713e-40b3-99b8-8ecacdaf8f00",
   "metadata": {},
   "outputs": [],
   "source": []
  }
 ],
 "metadata": {
  "kernelspec": {
   "display_name": "Python 3 (ipykernel)",
   "language": "python",
   "name": "python3"
  },
  "language_info": {
   "codemirror_mode": {
    "name": "ipython",
    "version": 3
   },
   "file_extension": ".py",
   "mimetype": "text/x-python",
   "name": "python",
   "nbconvert_exporter": "python",
   "pygments_lexer": "ipython3",
   "version": "3.7.13"
  }
 },
 "nbformat": 4,
 "nbformat_minor": 5
}
